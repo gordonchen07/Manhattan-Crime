{
 "cells": [
  {
   "cell_type": "code",
   "execution_count": 1,
   "metadata": {},
   "outputs": [],
   "source": [
    "import pyproj\n",
    "from pyproj import Proj, transform\n",
    "from tqdm import tqdm_notebook as tqdm\n",
    "import pandas as pd"
   ]
  },
  {
   "cell_type": "code",
   "execution_count": 2,
   "metadata": {},
   "outputs": [],
   "source": [
    "df = pd.read_csv('df_mhtn.csv')"
   ]
  },
  {
   "cell_type": "code",
   "execution_count": 7,
   "metadata": {},
   "outputs": [
    {
     "data": {
      "text/plain": [
       "(1436324, 8)"
      ]
     },
     "execution_count": 7,
     "metadata": {},
     "output_type": "execute_result"
    }
   ],
   "source": [
    "df.shape"
   ]
  },
  {
   "cell_type": "code",
   "execution_count": 8,
   "metadata": {},
   "outputs": [
    {
     "data": {
      "text/html": [
       "<div>\n",
       "<style scoped>\n",
       "    .dataframe tbody tr th:only-of-type {\n",
       "        vertical-align: middle;\n",
       "    }\n",
       "\n",
       "    .dataframe tbody tr th {\n",
       "        vertical-align: top;\n",
       "    }\n",
       "\n",
       "    .dataframe thead th {\n",
       "        text-align: right;\n",
       "    }\n",
       "</style>\n",
       "<table border=\"1\" class=\"dataframe\">\n",
       "  <thead>\n",
       "    <tr style=\"text-align: right;\">\n",
       "      <th></th>\n",
       "      <th>Unnamed: 0</th>\n",
       "      <th>date_time</th>\n",
       "      <th>ADDR_PCT_CD</th>\n",
       "      <th>LAW_CAT_CD</th>\n",
       "      <th>Latitude</th>\n",
       "      <th>Longitude</th>\n",
       "      <th>date</th>\n",
       "      <th>time</th>\n",
       "    </tr>\n",
       "  </thead>\n",
       "  <tbody>\n",
       "    <tr>\n",
       "      <th>0</th>\n",
       "      <td>0</td>\n",
       "      <td>2006-01-01 00:01:00</td>\n",
       "      <td>5.0</td>\n",
       "      <td>MISDEMEANOR</td>\n",
       "      <td>40.721883</td>\n",
       "      <td>-73.997263</td>\n",
       "      <td>2006-01-01</td>\n",
       "      <td>00:01:00</td>\n",
       "    </tr>\n",
       "    <tr>\n",
       "      <th>1</th>\n",
       "      <td>1</td>\n",
       "      <td>2006-01-01 00:01:00</td>\n",
       "      <td>24.0</td>\n",
       "      <td>MISDEMEANOR</td>\n",
       "      <td>40.796571</td>\n",
       "      <td>-73.967186</td>\n",
       "      <td>2006-01-01</td>\n",
       "      <td>00:01:00</td>\n",
       "    </tr>\n",
       "    <tr>\n",
       "      <th>2</th>\n",
       "      <td>2</td>\n",
       "      <td>2006-01-01 00:01:00</td>\n",
       "      <td>9.0</td>\n",
       "      <td>MISDEMEANOR</td>\n",
       "      <td>40.730066</td>\n",
       "      <td>-73.980615</td>\n",
       "      <td>2006-01-01</td>\n",
       "      <td>00:01:00</td>\n",
       "    </tr>\n",
       "    <tr>\n",
       "      <th>3</th>\n",
       "      <td>3</td>\n",
       "      <td>2006-01-01 00:01:00</td>\n",
       "      <td>18.0</td>\n",
       "      <td>MISDEMEANOR</td>\n",
       "      <td>40.761311</td>\n",
       "      <td>-73.973083</td>\n",
       "      <td>2006-01-01</td>\n",
       "      <td>00:01:00</td>\n",
       "    </tr>\n",
       "    <tr>\n",
       "      <th>4</th>\n",
       "      <td>4</td>\n",
       "      <td>2006-01-01 00:01:00</td>\n",
       "      <td>13.0</td>\n",
       "      <td>MISDEMEANOR</td>\n",
       "      <td>40.734346</td>\n",
       "      <td>-73.981935</td>\n",
       "      <td>2006-01-01</td>\n",
       "      <td>00:01:00</td>\n",
       "    </tr>\n",
       "  </tbody>\n",
       "</table>\n",
       "</div>"
      ],
      "text/plain": [
       "   Unnamed: 0            date_time  ADDR_PCT_CD   LAW_CAT_CD   Latitude  \\\n",
       "0           0  2006-01-01 00:01:00          5.0  MISDEMEANOR  40.721883   \n",
       "1           1  2006-01-01 00:01:00         24.0  MISDEMEANOR  40.796571   \n",
       "2           2  2006-01-01 00:01:00          9.0  MISDEMEANOR  40.730066   \n",
       "3           3  2006-01-01 00:01:00         18.0  MISDEMEANOR  40.761311   \n",
       "4           4  2006-01-01 00:01:00         13.0  MISDEMEANOR  40.734346   \n",
       "\n",
       "   Longitude        date      time  \n",
       "0 -73.997263  2006-01-01  00:01:00  \n",
       "1 -73.967186  2006-01-01  00:01:00  \n",
       "2 -73.980615  2006-01-01  00:01:00  \n",
       "3 -73.973083  2006-01-01  00:01:00  \n",
       "4 -73.981935  2006-01-01  00:01:00  "
      ]
     },
     "execution_count": 8,
     "metadata": {},
     "output_type": "execute_result"
    }
   ],
   "source": [
    "df.head()"
   ]
  },
  {
   "cell_type": "code",
   "execution_count": 11,
   "metadata": {},
   "outputs": [],
   "source": [
    "inProj = Proj(init='epsg:4326')\n",
    "outProj = Proj(init='epsg:2263')"
   ]
  },
  {
   "cell_type": "code",
   "execution_count": null,
   "metadata": {},
   "outputs": [
    {
     "data": {
      "application/vnd.jupyter.widget-view+json": {
       "model_id": "5b3cd31525f44bf8bb5569221d583c28",
       "version_major": 2,
       "version_minor": 0
      },
      "text/plain": [
       "HBox(children=(IntProgress(value=0, max=36324), HTML(value='')))"
      ]
     },
     "metadata": {},
     "output_type": "display_data"
    }
   ],
   "source": [
    "coor_list= []\n",
    "i = 0\n",
    "x = 15\n",
    "freq = 100000\n",
    "for n in tqdm(range(i,len(df))):\n",
    "    i +=1\n",
    "    x1,y1 = df['Longitude'][n], df['Latitude'][n]\n",
    "    x2,y2 = transform(inProj,outProj,x1,y1)\n",
    "    coor_list.append((i,x2,y2))\n",
    "    if i == x*freq:\n",
    "        print(f\"autosave {x}\")\n",
    "        temp_df = pd.DataFrame(coor_list,columns = ['row',\"long\",'lat'])\n",
    "        temp_df.to_csv(f\"long_lat_save_{x}.csv\", index = False)\n",
    "        coor_list= []\n",
    "        x+=1\n",
    "    temp_df = pd.DataFrame(coor_list,columns = ['row',\"long\",'lat'])\n",
    "    temp_df.to_csv(f\"long_lat_save_{x}.csv\", index = False)"
   ]
  },
  {
   "cell_type": "code",
   "execution_count": null,
   "metadata": {},
   "outputs": [],
   "source": []
  }
 ],
 "metadata": {
  "kernelspec": {
   "display_name": "Python 3",
   "language": "python",
   "name": "python3"
  },
  "language_info": {
   "codemirror_mode": {
    "name": "ipython",
    "version": 3
   },
   "file_extension": ".py",
   "mimetype": "text/x-python",
   "name": "python",
   "nbconvert_exporter": "python",
   "pygments_lexer": "ipython3",
   "version": "3.7.3"
  }
 },
 "nbformat": 4,
 "nbformat_minor": 2
}
