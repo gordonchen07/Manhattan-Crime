{
 "cells": [
  {
   "cell_type": "code",
   "execution_count": 9,
   "metadata": {},
   "outputs": [],
   "source": [
    "import pandas as pd"
   ]
  },
  {
   "cell_type": "code",
   "execution_count": 10,
   "metadata": {},
   "outputs": [],
   "source": [
    "df_b1 = pd.read_csv('batch1done.csv', index_col=0)\n",
    "df_b2 = pd.read_csv('batch2done.csv', index_col=0)\n",
    "df_b3 = pd.read_csv('batch3done.csv', index_col=0)\n",
    "df_b4 = pd.read_csv('batch4done.csv', index_col=0)\n",
    "df_b5 = pd.read_csv('batch5done.csv', index_col=0)\n",
    "df_b6 = pd.read_csv('batch6done.csv', index_col=0)\n",
    "df_b7 = pd.read_csv('batch7done.csv', index_col=0)\n",
    "df_b8 = pd.read_csv('batch8done.csv', index_col=0)\n",
    "df_b9 = pd.read_csv('batch9done.csv', index_col=0)\n",
    "df_b10 = pd.read_csv('batch10done.csv', index_col=0)\n",
    "df_b11 = pd.read_csv('batch11done.csv', index_col=0)\n",
    "df_b12 = pd.read_csv('batch12done.csv', index_col=0)\n",
    "df_b13 = pd.read_csv('batch13done.csv', index_col=0)\n",
    "df_b14 = pd.read_csv('batch14done.csv', index_col=0)\n",
    "df_b15 = pd.read_csv('batch15done.csv', index_col=0)"
   ]
  },
  {
   "cell_type": "code",
   "execution_count": 11,
   "metadata": {},
   "outputs": [],
   "source": [
    "df_b1.set_index('row', inplace=True)\n",
    "df_b2.set_index('row', inplace=True)\n",
    "df_b3.set_index('row', inplace=True)\n",
    "df_b4.set_index('row', inplace=True)\n",
    "df_b5.set_index('row', inplace=True)\n",
    "df_b6.set_index('row', inplace=True)\n",
    "df_b7.set_index('row', inplace=True)\n",
    "df_b8.set_index('row', inplace=True)\n",
    "df_b9.set_index('row', inplace=True)\n",
    "df_b10.set_index('row', inplace=True)\n",
    "df_b11.set_index('row', inplace=True)\n",
    "df_b12.set_index('row', inplace=True)\n",
    "df_b13.set_index('row', inplace=True)\n",
    "df_b14.set_index('row', inplace=True)\n",
    "df_b15.set_index('row', inplace=True)"
   ]
  },
  {
   "cell_type": "code",
   "execution_count": 12,
   "metadata": {},
   "outputs": [],
   "source": [
    "df = pd.concat([df_b1,df_b2,df_b3,df_b4,df_b5,df_b6,df_b7,df_b8,df_b9,df_b10,df_b11,df_b12,df_b13,df_b14,df_b15])"
   ]
  },
  {
   "cell_type": "code",
   "execution_count": 13,
   "metadata": {},
   "outputs": [
    {
     "data": {
      "text/html": [
       "<div>\n",
       "<style scoped>\n",
       "    .dataframe tbody tr th:only-of-type {\n",
       "        vertical-align: middle;\n",
       "    }\n",
       "\n",
       "    .dataframe tbody tr th {\n",
       "        vertical-align: top;\n",
       "    }\n",
       "\n",
       "    .dataframe thead th {\n",
       "        text-align: right;\n",
       "    }\n",
       "</style>\n",
       "<table border=\"1\" class=\"dataframe\">\n",
       "  <thead>\n",
       "    <tr style=\"text-align: right;\">\n",
       "      <th></th>\n",
       "      <th>long</th>\n",
       "      <th>lat</th>\n",
       "      <th>zipcode</th>\n",
       "      <th>In_mhtn</th>\n",
       "    </tr>\n",
       "    <tr>\n",
       "      <th>row</th>\n",
       "      <th></th>\n",
       "      <th></th>\n",
       "      <th></th>\n",
       "      <th></th>\n",
       "    </tr>\n",
       "  </thead>\n",
       "  <tbody>\n",
       "    <tr>\n",
       "      <th>1</th>\n",
       "      <td>985008.599220</td>\n",
       "      <td>202278.008804</td>\n",
       "      <td>10012</td>\n",
       "      <td>True</td>\n",
       "    </tr>\n",
       "    <tr>\n",
       "      <th>2</th>\n",
       "      <td>993335.599589</td>\n",
       "      <td>229491.014604</td>\n",
       "      <td>10025</td>\n",
       "      <td>True</td>\n",
       "    </tr>\n",
       "    <tr>\n",
       "      <th>3</th>\n",
       "      <td>989622.599846</td>\n",
       "      <td>205260.009556</td>\n",
       "      <td>10009</td>\n",
       "      <td>True</td>\n",
       "    </tr>\n",
       "    <tr>\n",
       "      <th>4</th>\n",
       "      <td>991706.599858</td>\n",
       "      <td>216644.011513</td>\n",
       "      <td>10022</td>\n",
       "      <td>True</td>\n",
       "    </tr>\n",
       "    <tr>\n",
       "      <th>5</th>\n",
       "      <td>989256.599821</td>\n",
       "      <td>206819.009923</td>\n",
       "      <td>10003</td>\n",
       "      <td>True</td>\n",
       "    </tr>\n",
       "  </tbody>\n",
       "</table>\n",
       "</div>"
      ],
      "text/plain": [
       "              long            lat  zipcode  In_mhtn\n",
       "row                                                \n",
       "1    985008.599220  202278.008804    10012     True\n",
       "2    993335.599589  229491.014604    10025     True\n",
       "3    989622.599846  205260.009556    10009     True\n",
       "4    991706.599858  216644.011513    10022     True\n",
       "5    989256.599821  206819.009923    10003     True"
      ]
     },
     "execution_count": 13,
     "metadata": {},
     "output_type": "execute_result"
    }
   ],
   "source": [
    "df.head()"
   ]
  },
  {
   "cell_type": "code",
   "execution_count": 14,
   "metadata": {},
   "outputs": [
    {
     "data": {
      "text/plain": [
       "(1436324, 4)"
      ]
     },
     "execution_count": 14,
     "metadata": {},
     "output_type": "execute_result"
    }
   ],
   "source": [
    "df.shape"
   ]
  },
  {
   "cell_type": "code",
   "execution_count": 15,
   "metadata": {},
   "outputs": [],
   "source": [
    "df.to_csv('all_batches_done.csv')"
   ]
  },
  {
   "cell_type": "code",
   "execution_count": null,
   "metadata": {},
   "outputs": [],
   "source": []
  }
 ],
 "metadata": {
  "kernelspec": {
   "display_name": "Python 3",
   "language": "python",
   "name": "python3"
  },
  "language_info": {
   "codemirror_mode": {
    "name": "ipython",
    "version": 3
   },
   "file_extension": ".py",
   "mimetype": "text/x-python",
   "name": "python",
   "nbconvert_exporter": "python",
   "pygments_lexer": "ipython3",
   "version": "3.7.3"
  }
 },
 "nbformat": 4,
 "nbformat_minor": 2
}
