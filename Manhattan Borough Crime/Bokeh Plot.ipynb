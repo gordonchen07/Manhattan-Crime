{
 "cells": [
  {
   "cell_type": "code",
   "execution_count": 1,
   "metadata": {},
   "outputs": [],
   "source": [
    "import pandas as pd\n",
    "import numpy as np\n",
    "from bokeh.plotting import figure\n",
    "from bokeh.io import output_file, show, output_notebook\n",
    "from bokeh.models import CustomJS\n",
    "from bokeh.models.widgets import CheckboxGroup\n",
    "from bokeh.layouts import row\n",
    "from bokeh.palettes import Viridis4\n",
    "from bokeh.models.annotations import Title, Legend\n"
   ]
  },
  {
   "cell_type": "code",
   "execution_count": 2,
   "metadata": {},
   "outputs": [],
   "source": [
    "#Read in the original data series for the 3 crimes\n",
    "misdemeanor = pd.read_csv('df_misdemeanor.csv', index_col=0)\n",
    "felony = pd.read_csv('df_felony.csv', index_col=0)\n",
    "violation = pd.read_csv('df_violation.csv', index_col=0)"
   ]
  },
  {
   "cell_type": "code",
   "execution_count": 4,
   "metadata": {},
   "outputs": [
    {
     "data": {
      "text/html": [
       "<div>\n",
       "<style scoped>\n",
       "    .dataframe tbody tr th:only-of-type {\n",
       "        vertical-align: middle;\n",
       "    }\n",
       "\n",
       "    .dataframe tbody tr th {\n",
       "        vertical-align: top;\n",
       "    }\n",
       "\n",
       "    .dataframe thead th {\n",
       "        text-align: right;\n",
       "    }\n",
       "</style>\n",
       "<table border=\"1\" class=\"dataframe\">\n",
       "  <thead>\n",
       "    <tr style=\"text-align: right;\">\n",
       "      <th></th>\n",
       "      <th>quantity</th>\n",
       "    </tr>\n",
       "    <tr>\n",
       "      <th>date</th>\n",
       "      <th></th>\n",
       "    </tr>\n",
       "  </thead>\n",
       "  <tbody>\n",
       "    <tr>\n",
       "      <th>2006-01-01</th>\n",
       "      <td>235</td>\n",
       "    </tr>\n",
       "    <tr>\n",
       "      <th>2006-01-08</th>\n",
       "      <td>1170</td>\n",
       "    </tr>\n",
       "    <tr>\n",
       "      <th>2006-01-15</th>\n",
       "      <td>1167</td>\n",
       "    </tr>\n",
       "    <tr>\n",
       "      <th>2006-01-22</th>\n",
       "      <td>1197</td>\n",
       "    </tr>\n",
       "    <tr>\n",
       "      <th>2006-01-29</th>\n",
       "      <td>1241</td>\n",
       "    </tr>\n",
       "  </tbody>\n",
       "</table>\n",
       "</div>"
      ],
      "text/plain": [
       "            quantity\n",
       "date                \n",
       "2006-01-01       235\n",
       "2006-01-08      1170\n",
       "2006-01-15      1167\n",
       "2006-01-22      1197\n",
       "2006-01-29      1241"
      ]
     },
     "execution_count": 4,
     "metadata": {},
     "output_type": "execute_result"
    }
   ],
   "source": [
    "misdemeanor.head()"
   ]
  },
  {
   "cell_type": "code",
   "execution_count": 11,
   "metadata": {},
   "outputs": [],
   "source": [
    "misdemeanor.reset_index(inplace=True)\n",
    "felony.reset_index(inplace=True)\n",
    "violation.reset_index(inplace=True)"
   ]
  },
  {
   "cell_type": "code",
   "execution_count": 5,
   "metadata": {},
   "outputs": [],
   "source": [
    "#Read in the forecasts of the 3 crimes\n",
    "misdemeanor_forecast = pd.read_csv('misdemeanor_forecast.csv', index_col=0)\n",
    "felony_forecast = pd.read_csv('felony_forecast.csv', index_col=0)\n",
    "violation_forecast = pd.read_csv('violation_forecast.csv', index_col=0)"
   ]
  },
  {
   "cell_type": "code",
   "execution_count": 7,
   "metadata": {},
   "outputs": [],
   "source": [
    "misdemeanor_forecast.index.name = 'date'\n",
    "felony_forecast.index.name = 'date'\n",
    "violation_forecast.index.name = 'date'"
   ]
  },
  {
   "cell_type": "code",
   "execution_count": 12,
   "metadata": {},
   "outputs": [],
   "source": [
    "misdemeanor_forecast.reset_index(inplace=True)\n",
    "felony_forecast.reset_index(inplace=True)\n",
    "violation_forecast.reset_index(inplace=True)"
   ]
  },
  {
   "cell_type": "code",
   "execution_count": 13,
   "metadata": {
    "scrolled": true
   },
   "outputs": [
    {
     "data": {
      "text/html": [
       "<div>\n",
       "<style scoped>\n",
       "    .dataframe tbody tr th:only-of-type {\n",
       "        vertical-align: middle;\n",
       "    }\n",
       "\n",
       "    .dataframe tbody tr th {\n",
       "        vertical-align: top;\n",
       "    }\n",
       "\n",
       "    .dataframe thead th {\n",
       "        text-align: right;\n",
       "    }\n",
       "</style>\n",
       "<table border=\"1\" class=\"dataframe\">\n",
       "  <thead>\n",
       "    <tr style=\"text-align: right;\">\n",
       "      <th></th>\n",
       "      <th>date</th>\n",
       "      <th>number_of_crimes</th>\n",
       "    </tr>\n",
       "  </thead>\n",
       "  <tbody>\n",
       "    <tr>\n",
       "      <th>0</th>\n",
       "      <td>2018-01-07</td>\n",
       "      <td>1031.390556</td>\n",
       "    </tr>\n",
       "    <tr>\n",
       "      <th>1</th>\n",
       "      <td>2018-01-14</td>\n",
       "      <td>1204.736685</td>\n",
       "    </tr>\n",
       "    <tr>\n",
       "      <th>2</th>\n",
       "      <td>2018-01-21</td>\n",
       "      <td>1147.067653</td>\n",
       "    </tr>\n",
       "    <tr>\n",
       "      <th>3</th>\n",
       "      <td>2018-01-28</td>\n",
       "      <td>1189.918999</td>\n",
       "    </tr>\n",
       "    <tr>\n",
       "      <th>4</th>\n",
       "      <td>2018-02-04</td>\n",
       "      <td>1183.821501</td>\n",
       "    </tr>\n",
       "  </tbody>\n",
       "</table>\n",
       "</div>"
      ],
      "text/plain": [
       "         date  number_of_crimes\n",
       "0  2018-01-07       1031.390556\n",
       "1  2018-01-14       1204.736685\n",
       "2  2018-01-21       1147.067653\n",
       "3  2018-01-28       1189.918999\n",
       "4  2018-02-04       1183.821501"
      ]
     },
     "execution_count": 13,
     "metadata": {},
     "output_type": "execute_result"
    }
   ],
   "source": [
    "misdemeanor_forecast.head()"
   ]
  },
  {
   "cell_type": "code",
   "execution_count": 23,
   "metadata": {},
   "outputs": [
    {
     "data": {
      "text/html": [
       "<div>\n",
       "<style scoped>\n",
       "    .dataframe tbody tr th:only-of-type {\n",
       "        vertical-align: middle;\n",
       "    }\n",
       "\n",
       "    .dataframe tbody tr th {\n",
       "        vertical-align: top;\n",
       "    }\n",
       "\n",
       "    .dataframe thead th {\n",
       "        text-align: right;\n",
       "    }\n",
       "</style>\n",
       "<table border=\"1\" class=\"dataframe\">\n",
       "  <thead>\n",
       "    <tr style=\"text-align: right;\">\n",
       "      <th></th>\n",
       "      <th>date</th>\n",
       "      <th>quantity</th>\n",
       "    </tr>\n",
       "  </thead>\n",
       "  <tbody>\n",
       "    <tr>\n",
       "      <th>0</th>\n",
       "      <td>2018-01-07</td>\n",
       "      <td>525.734767</td>\n",
       "    </tr>\n",
       "    <tr>\n",
       "      <th>1</th>\n",
       "      <td>2018-01-14</td>\n",
       "      <td>575.948898</td>\n",
       "    </tr>\n",
       "    <tr>\n",
       "      <th>2</th>\n",
       "      <td>2018-01-21</td>\n",
       "      <td>562.696192</td>\n",
       "    </tr>\n",
       "    <tr>\n",
       "      <th>3</th>\n",
       "      <td>2018-01-28</td>\n",
       "      <td>618.650355</td>\n",
       "    </tr>\n",
       "    <tr>\n",
       "      <th>4</th>\n",
       "      <td>2018-02-04</td>\n",
       "      <td>573.487693</td>\n",
       "    </tr>\n",
       "  </tbody>\n",
       "</table>\n",
       "</div>"
      ],
      "text/plain": [
       "        date    quantity\n",
       "0 2018-01-07  525.734767\n",
       "1 2018-01-14  575.948898\n",
       "2 2018-01-21  562.696192\n",
       "3 2018-01-28  618.650355\n",
       "4 2018-02-04  573.487693"
      ]
     },
     "execution_count": 23,
     "metadata": {},
     "output_type": "execute_result"
    }
   ],
   "source": [
    "felony_forecast.head()"
   ]
  },
  {
   "cell_type": "code",
   "execution_count": 15,
   "metadata": {},
   "outputs": [],
   "source": [
    "#Setting the date for all the data to be in the same format\n",
    "misdemeanor['date'] = pd.to_datetime(misdemeanor['date'], format='%Y/%m/%d')\n",
    "felony['date'] = pd.to_datetime(felony['date'], format='%Y/%m/%d')\n",
    "violation['date'] = pd.to_datetime(violation['date'], format='%Y/%m/%d')\n",
    "misdemeanor_forecast['date'] = pd.to_datetime(misdemeanor_forecast['date'], format='%Y/%m/%d')\n",
    "felony_forecast['date'] = pd.to_datetime(felony_forecast['date'], format='%Y/%m/%d')\n",
    "violation_forecast['date'] = pd.to_datetime(violation_forecast['date'], format='%Y/%m/%d')"
   ]
  },
  {
   "cell_type": "code",
   "execution_count": 60,
   "metadata": {},
   "outputs": [],
   "source": [
    "#Using Bokeh to plot the data series for the 3 crimes and their forecasts\n",
    "#Each crime and its respective forecast has its own plot and checkbox to toggle\n",
    "\n",
    "p = figure(x_axis_type='datetime', plot_width=1200, plot_height=600, title='Manhattan Crime')\n",
    "aline = p.line(misdemeanor['date'], misdemeanor['quantity'], line_width=2, color='red')\n",
    "bline = p.line(misdemeanor_forecast['date'], misdemeanor_forecast['number_of_crimes'], line_width=2, color=Viridis4[1])\n",
    "cline = p.line(felony['date'], felony['quantity'], line_width=2, color='blue')\n",
    "dline = p.line(felony_forecast['date'], felony_forecast['quantity'], line_width=2, color=Viridis4[1])\n",
    "eline = p.line(violation['date'], violation['quantity'], line_width=2, color='green')\n",
    "fline = p.line(violation_forecast['date'], violation_forecast['quantity'], line_width=2, color=Viridis4[1])\n",
    "\n",
    "p.yaxis.axis_label = 'Number of Crimes'\n",
    "p.xaxis.axis_label = 'Time Span'\n",
    "\n",
    "legend = Legend(items=[\n",
    "    (\"Misdemeanors\",   [aline]),\n",
    "    (\"Misdemeanors Forecast\", [bline]),\n",
    "    (\"Felonies\", [cline]),\n",
    "    (\"Felonies Forecast\", [dline]),\n",
    "    (\"Violations\", [eline]),\n",
    "    (\"Violations Forecast\", [fline])]\n",
    "                ,location=(0, 200))\n",
    "\n",
    "# t = Title()\n",
    "# t.text = 'Manhattan Crime'\n",
    "# p.title = t\n",
    "p.title.text_color = Viridis4[1]\n",
    "p.title.text_font = 'helvetica'\n",
    "p.title.text_font_style = 'bold'\n",
    "p.title.text_font_size = '20pt'\n",
    "p.title.align = 'center'\n",
    "\n",
    "\n",
    "p.add_layout(legend, 'right')\n",
    "\n",
    "checkboxes = CheckboxGroup(labels=list(['Misdemeanors', 'Misdemeanors Forecast', 'Felonies', \n",
    "                                        'Felonies Forecast', 'Violations', 'Violations Forecast']), \n",
    "                           active=[0, 1, 2, 3, 4, 5])\n",
    "callback = CustomJS(code=\"\"\"aline.visible = false;\n",
    "                            bline.visible = false;\n",
    "                            cline.visible = false;\n",
    "                            dline.visible = false;\n",
    "                            eline.visible = false;\n",
    "                            fline.visible = false;\n",
    "                            \n",
    "                            // cb_obj is injected in thanks to the callback\n",
    "                            if (cb_obj.active.includes(0)){aline.visible = true;} \n",
    "                                // 0 index box is aline\n",
    "                            if (cb_obj.active.includes(1)){bline.visible = true;}\n",
    "                            if (cb_obj.active.includes(2)){cline.visible = true;}\n",
    "                            if (cb_obj.active.includes(3)){dline.visible = true;}\n",
    "                            if (cb_obj.active.includes(4)){eline.visible = true;}\n",
    "                            if (cb_obj.active.includes(5)){fline.visible = true;}\n",
    "                            \"\"\",\n",
    "                    args={'aline': aline, 'bline': bline, 'cline': cline, 'dline': dline, 'eline': eline, 'fline': fline,})\n",
    "checkboxes.js_on_click(callback)\n",
    "output_file('ManhattanCrime.html')\n",
    "show(row(p, checkboxes))"
   ]
  },
  {
   "cell_type": "code",
   "execution_count": null,
   "metadata": {},
   "outputs": [],
   "source": []
  }
 ],
 "metadata": {
  "kernelspec": {
   "display_name": "Python 3",
   "language": "python",
   "name": "python3"
  },
  "language_info": {
   "codemirror_mode": {
    "name": "ipython",
    "version": 3
   },
   "file_extension": ".py",
   "mimetype": "text/x-python",
   "name": "python",
   "nbconvert_exporter": "python",
   "pygments_lexer": "ipython3",
   "version": "3.7.3"
  }
 },
 "nbformat": 4,
 "nbformat_minor": 2
}
